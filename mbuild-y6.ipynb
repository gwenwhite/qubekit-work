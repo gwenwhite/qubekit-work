{
 "cells": [
  {
   "cell_type": "code",
   "execution_count": 1,
   "id": "7b2817f2",
   "metadata": {},
   "outputs": [],
   "source": [
    "import mbuild as mb\n",
    "from openbabel import pybel\n",
    "import foyer\n",
    "#import antefoyer\n",
    "from foyer import Forcefield\n",
    "from mbuild.lib.recipes import Polymer\n",
    "import parmed as pmd"
   ]
  },
  {
   "cell_type": "code",
   "execution_count": 34,
   "id": "eb927edb",
   "metadata": {},
   "outputs": [
    {
     "data": {
      "application/3dmoljs_load.v0": "<div id=\"3dmolviewer_16507534818810089\"  style=\"position: relative; width: 640px; height: 480px\">\n        <p id=\"3dmolwarning_16507534818810089\" style=\"background-color:#ffcccc;color:black\">You appear to be running in JupyterLab (or JavaScript failed to load for some other reason).  You need to install the 3dmol extension: <br>\n        <tt>jupyter labextension install jupyterlab_3dmol</tt></p>\n        </div>\n<script>\n\nvar loadScriptAsync = function(uri){\n  return new Promise((resolve, reject) => {\n    var tag = document.createElement('script');\n    tag.src = uri;\n    tag.async = true;\n    tag.onload = () => {\n      resolve();\n    };\n  var firstScriptTag = document.getElementsByTagName('script')[0];\n  firstScriptTag.parentNode.insertBefore(tag, firstScriptTag);\n});\n};\n\nif(typeof $3Dmolpromise === 'undefined') {\n$3Dmolpromise = null;\n  $3Dmolpromise = loadScriptAsync('https://3dmol.org/build/3Dmol.js');\n}\n\nvar viewer_16507534818810089 = null;\nvar warn = document.getElementById(\"3dmolwarning_16507534818810089\");\nif(warn) {\n    warn.parentNode.removeChild(warn);\n}\n$3Dmolpromise.then(function() {\nviewer_16507534818810089 = $3Dmol.createViewer($(\"#3dmolviewer_16507534818810089\"),{backgroundColor:\"white\"});\nviewer_16507534818810089.zoomTo();\n\tviewer_16507534818810089.addModel(\"@<TRIPOS>MOLECULE\\nRES\\n18 18 1 0 1\\nSMALL\\nNO_CHARGES\\n@<TRIPOS>CRYSIN\\n   10.0477    10.6343     7.5947    90.0000    90.0000    90.0000  1  1\\n@<TRIPOS>ATOM\\n       1 C           -0.3898    -1.1774    -0.0692 C             1 RES     \\n       2 C            0.8804    -0.7538    -0.0124 C             1 RES     \\n       3 N            0.9460     0.6143     0.0982 N             1 RES     \\n       4 C            2.1241     1.3926     0.4446 C             1 RES     \\n       5 C            1.8567     2.8876     0.5283 C             1 RES     \\n       6 C           -0.3746     1.1984    -0.1398 C             1 RES     \\n       7 C           -1.3177    -0.0023     0.0705 C             1 RES     \\n       8 H           -0.7078    -2.2033    -0.1519 H             1 RES     \\n       9 H            1.7778    -1.3565    -0.0413 H             1 RES     \\n      10 H            2.9156     1.2099    -0.2912 H             1 RES     \\n      11 H            2.5039     1.0522     1.4161 H             1 RES     \\n      12 H            1.4915     3.2746    -0.4286 H             1 RES     \\n      13 H            2.7691     3.4311     0.7901 H             1 RES     \\n      14 H            1.1106     3.1136     1.2978 H             1 RES     \\n      15 H           -0.4319     1.5469    -1.1786 H             1 RES     \\n      16 H           -0.6344     2.0208     0.5305 H             1 RES     \\n      17 H           -2.1321    -0.0075    -0.6571 H             1 RES     \\n      18 H           -1.7411     0.0154     1.0822 H             1 RES     \\n@<TRIPOS>BOND\\n       1        1        2 1\\n       2        3        2 1\\n       3        9        2 1\\n       4        7        1 1\\n       5        8        1 1\\n       6        6        7 1\\n       7       17        7 1\\n       8       18        7 1\\n       9        4        3 1\\n      10        6        3 1\\n      11        5        4 1\\n      12       10        4 1\\n      13       11        4 1\\n      14       15        6 1\\n      15       16        6 1\\n      16       12        5 1\\n      17       13        5 1\\n      18       14        5 1\\n@<TRIPOS>SUBSTRUCTURE\\n       1 RES             1 RESIDUE    0 **** ROOT      0\\n\",\"mol2\");\n\tviewer_16507534818810089.setStyle({\"stick\": {\"radius\": 0.2, \"color\": \"grey\"}, \"sphere\": {\"scale\": 0.3, \"colorscheme\": {}}});\n\tviewer_16507534818810089.zoomTo();\nviewer_16507534818810089.render();\n});\n</script>",
      "text/html": [
       "<div id=\"3dmolviewer_16507534818810089\"  style=\"position: relative; width: 640px; height: 480px\">\n",
       "        <p id=\"3dmolwarning_16507534818810089\" style=\"background-color:#ffcccc;color:black\">You appear to be running in JupyterLab (or JavaScript failed to load for some other reason).  You need to install the 3dmol extension: <br>\n",
       "        <tt>jupyter labextension install jupyterlab_3dmol</tt></p>\n",
       "        </div>\n",
       "<script>\n",
       "\n",
       "var loadScriptAsync = function(uri){\n",
       "  return new Promise((resolve, reject) => {\n",
       "    var tag = document.createElement('script');\n",
       "    tag.src = uri;\n",
       "    tag.async = true;\n",
       "    tag.onload = () => {\n",
       "      resolve();\n",
       "    };\n",
       "  var firstScriptTag = document.getElementsByTagName('script')[0];\n",
       "  firstScriptTag.parentNode.insertBefore(tag, firstScriptTag);\n",
       "});\n",
       "};\n",
       "\n",
       "if(typeof $3Dmolpromise === 'undefined') {\n",
       "$3Dmolpromise = null;\n",
       "  $3Dmolpromise = loadScriptAsync('https://3dmol.org/build/3Dmol.js');\n",
       "}\n",
       "\n",
       "var viewer_16507534818810089 = null;\n",
       "var warn = document.getElementById(\"3dmolwarning_16507534818810089\");\n",
       "if(warn) {\n",
       "    warn.parentNode.removeChild(warn);\n",
       "}\n",
       "$3Dmolpromise.then(function() {\n",
       "viewer_16507534818810089 = $3Dmol.createViewer($(\"#3dmolviewer_16507534818810089\"),{backgroundColor:\"white\"});\n",
       "viewer_16507534818810089.zoomTo();\n",
       "\tviewer_16507534818810089.addModel(\"@<TRIPOS>MOLECULE\\nRES\\n18 18 1 0 1\\nSMALL\\nNO_CHARGES\\n@<TRIPOS>CRYSIN\\n   10.0477    10.6343     7.5947    90.0000    90.0000    90.0000  1  1\\n@<TRIPOS>ATOM\\n       1 C           -0.3898    -1.1774    -0.0692 C             1 RES     \\n       2 C            0.8804    -0.7538    -0.0124 C             1 RES     \\n       3 N            0.9460     0.6143     0.0982 N             1 RES     \\n       4 C            2.1241     1.3926     0.4446 C             1 RES     \\n       5 C            1.8567     2.8876     0.5283 C             1 RES     \\n       6 C           -0.3746     1.1984    -0.1398 C             1 RES     \\n       7 C           -1.3177    -0.0023     0.0705 C             1 RES     \\n       8 H           -0.7078    -2.2033    -0.1519 H             1 RES     \\n       9 H            1.7778    -1.3565    -0.0413 H             1 RES     \\n      10 H            2.9156     1.2099    -0.2912 H             1 RES     \\n      11 H            2.5039     1.0522     1.4161 H             1 RES     \\n      12 H            1.4915     3.2746    -0.4286 H             1 RES     \\n      13 H            2.7691     3.4311     0.7901 H             1 RES     \\n      14 H            1.1106     3.1136     1.2978 H             1 RES     \\n      15 H           -0.4319     1.5469    -1.1786 H             1 RES     \\n      16 H           -0.6344     2.0208     0.5305 H             1 RES     \\n      17 H           -2.1321    -0.0075    -0.6571 H             1 RES     \\n      18 H           -1.7411     0.0154     1.0822 H             1 RES     \\n@<TRIPOS>BOND\\n       1        1        2 1\\n       2        3        2 1\\n       3        9        2 1\\n       4        7        1 1\\n       5        8        1 1\\n       6        6        7 1\\n       7       17        7 1\\n       8       18        7 1\\n       9        4        3 1\\n      10        6        3 1\\n      11        5        4 1\\n      12       10        4 1\\n      13       11        4 1\\n      14       15        6 1\\n      15       16        6 1\\n      16       12        5 1\\n      17       13        5 1\\n      18       14        5 1\\n@<TRIPOS>SUBSTRUCTURE\\n       1 RES             1 RESIDUE    0 **** ROOT      0\\n\",\"mol2\");\n",
       "\tviewer_16507534818810089.setStyle({\"stick\": {\"radius\": 0.2, \"color\": \"grey\"}, \"sphere\": {\"scale\": 0.3, \"colorscheme\": {}}});\n",
       "\tviewer_16507534818810089.zoomTo();\n",
       "viewer_16507534818810089.render();\n",
       "});\n",
       "</script>"
      ]
     },
     "metadata": {},
     "output_type": "display_data"
    },
    {
     "data": {
      "text/plain": [
       "<py3Dmol.view at 0x7fbb66dd2690>"
      ]
     },
     "execution_count": 34,
     "metadata": {},
     "output_type": "execute_result"
    }
   ],
   "source": [
    "#methanol=mb.load(\"CO\", smiles=True, backend=\"pybel\")\n",
    "#methanol.visualize()\n",
    "y6=mb.load(\"C1=CN(CC)CC1\", smiles=True, backend=\"pybel\")\n",
    "#y6=mb.load(\"c1(CcS2)N(c)c(c)c(c)c12\", smiles=True, backend=\"pybel\")\n",
    "#y6.energy_minimize()\n",
    "y6.visualize()"
   ]
  },
  {
   "cell_type": "code",
   "execution_count": 35,
   "id": "d249af35",
   "metadata": {},
   "outputs": [],
   "source": [
    "#in file path of your choice, save your molecule to a .mol2 \n",
    "\n",
    "y6.save(\"/Users/gwen/cmelab/molecules/y6/y6-tailring.mol2\", overwrite=True)"
   ]
  },
  {
   "cell_type": "code",
   "execution_count": 2,
   "id": "fe446562",
   "metadata": {},
   "outputs": [],
   "source": [
    "#this is how you cwould load in a .mol2 file\n",
    "y6=\"/Users/gwen/cmelab/molecules/y6/y6.mol2\""
   ]
  },
  {
   "cell_type": "code",
   "execution_count": 3,
   "id": "06dcd84f",
   "metadata": {},
   "outputs": [
    {
     "name": "stderr",
     "output_type": "stream",
     "text": [
      "/Users/gwen/miniconda3/envs/cmeutils/lib/python3.7/site-packages/mdtraj/core/trajectory.py:438: UserWarning: top= kwargs ignored since this file parser does not support it\n",
      "  warnings.warn('top= kwargs ignored since this file parser does not support it')\n"
     ]
    }
   ],
   "source": [
    "compound = mb.load(y6)\n",
    "pmd_structure = pmd.load_file(y6)\n",
    "for atom_pmd, atom_mb in zip(pmd_structure, compound):\n",
    "    atom_mb.name = \"_{}\".format(atom_pmd.type)"
   ]
  },
  {
   "cell_type": "code",
   "execution_count": 4,
   "id": "0f9de824",
   "metadata": {},
   "outputs": [
    {
     "name": "stderr",
     "output_type": "stream",
     "text": [
      "/Users/gwen/miniconda3/envs/cmeutils/lib/python3.7/site-packages/foyer/forcefield.py:658: UserWarning: Non-atomistic element type detected. Creating custom element for _na\n",
      "  \"Creating custom element for {}\".format(element)\n",
      "/Users/gwen/miniconda3/envs/cmeutils/lib/python3.7/site-packages/foyer/forcefield.py:658: UserWarning: Non-atomistic element type detected. Creating custom element for _ca\n",
      "  \"Creating custom element for {}\".format(element)\n",
      "/Users/gwen/miniconda3/envs/cmeutils/lib/python3.7/site-packages/foyer/forcefield.py:658: UserWarning: Non-atomistic element type detected. Creating custom element for _cp\n",
      "  \"Creating custom element for {}\".format(element)\n",
      "/Users/gwen/miniconda3/envs/cmeutils/lib/python3.7/site-packages/foyer/forcefield.py:658: UserWarning: Non-atomistic element type detected. Creating custom element for _cc\n",
      "  \"Creating custom element for {}\".format(element)\n",
      "/Users/gwen/miniconda3/envs/cmeutils/lib/python3.7/site-packages/foyer/forcefield.py:658: UserWarning: Non-atomistic element type detected. Creating custom element for _ss\n",
      "  \"Creating custom element for {}\".format(element)\n",
      "/Users/gwen/miniconda3/envs/cmeutils/lib/python3.7/site-packages/foyer/forcefield.py:658: UserWarning: Non-atomistic element type detected. Creating custom element for _cd\n",
      "  \"Creating custom element for {}\".format(element)\n",
      "/Users/gwen/miniconda3/envs/cmeutils/lib/python3.7/site-packages/foyer/forcefield.py:658: UserWarning: Non-atomistic element type detected. Creating custom element for _f\n",
      "  \"Creating custom element for {}\".format(element)\n",
      "/Users/gwen/miniconda3/envs/cmeutils/lib/python3.7/site-packages/foyer/forcefield.py:658: UserWarning: Non-atomistic element type detected. Creating custom element for _nc\n",
      "  \"Creating custom element for {}\".format(element)\n",
      "/Users/gwen/miniconda3/envs/cmeutils/lib/python3.7/site-packages/foyer/forcefield.py:658: UserWarning: Non-atomistic element type detected. Creating custom element for _c3\n",
      "  \"Creating custom element for {}\".format(element)\n",
      "/Users/gwen/miniconda3/envs/cmeutils/lib/python3.7/site-packages/foyer/forcefield.py:658: UserWarning: Non-atomistic element type detected. Creating custom element for _ce\n",
      "  \"Creating custom element for {}\".format(element)\n",
      "/Users/gwen/miniconda3/envs/cmeutils/lib/python3.7/site-packages/foyer/forcefield.py:658: UserWarning: Non-atomistic element type detected. Creating custom element for _c\n",
      "  \"Creating custom element for {}\".format(element)\n",
      "/Users/gwen/miniconda3/envs/cmeutils/lib/python3.7/site-packages/foyer/forcefield.py:658: UserWarning: Non-atomistic element type detected. Creating custom element for _o\n",
      "  \"Creating custom element for {}\".format(element)\n",
      "/Users/gwen/miniconda3/envs/cmeutils/lib/python3.7/site-packages/foyer/forcefield.py:658: UserWarning: Non-atomistic element type detected. Creating custom element for _cg\n",
      "  \"Creating custom element for {}\".format(element)\n",
      "/Users/gwen/miniconda3/envs/cmeutils/lib/python3.7/site-packages/foyer/forcefield.py:658: UserWarning: Non-atomistic element type detected. Creating custom element for _n1\n",
      "  \"Creating custom element for {}\".format(element)\n",
      "/Users/gwen/miniconda3/envs/cmeutils/lib/python3.7/site-packages/foyer/forcefield.py:658: UserWarning: Non-atomistic element type detected. Creating custom element for _ha\n",
      "  \"Creating custom element for {}\".format(element)\n",
      "/Users/gwen/miniconda3/envs/cmeutils/lib/python3.7/site-packages/foyer/forcefield.py:658: UserWarning: Non-atomistic element type detected. Creating custom element for _h1\n",
      "  \"Creating custom element for {}\".format(element)\n",
      "/Users/gwen/miniconda3/envs/cmeutils/lib/python3.7/site-packages/foyer/forcefield.py:658: UserWarning: Non-atomistic element type detected. Creating custom element for _hc\n",
      "  \"Creating custom element for {}\".format(element)\n",
      "/Users/gwen/miniconda3/envs/cmeutils/lib/python3.7/site-packages/foyer/forcefield.py:658: UserWarning: Non-atomistic element type detected. Creating custom element for _n\n",
      "  \"Creating custom element for {}\".format(element)\n",
      "/Users/gwen/miniconda3/envs/cmeutils/lib/python3.7/site-packages/foyer/forcefield.py:658: UserWarning: Non-atomistic element type detected. Creating custom element for _s\n",
      "  \"Creating custom element for {}\".format(element)\n",
      "/Users/gwen/miniconda3/envs/cmeutils/lib/python3.7/site-packages/foyer/forcefield.py:658: UserWarning: Non-atomistic element type detected. Creating custom element for _cf\n",
      "  \"Creating custom element for {}\".format(element)\n",
      "/Users/gwen/miniconda3/envs/cmeutils/lib/python3.7/site-packages/foyer/forcefield.py:658: UserWarning: Non-atomistic element type detected. Creating custom element for _h4\n",
      "  \"Creating custom element for {}\".format(element)\n",
      "/Users/gwen/miniconda3/envs/cmeutils/lib/python3.7/site-packages/foyer/forcefield.py:658: UserWarning: Non-atomistic element type detected. Creating custom element for _ch\n",
      "  \"Creating custom element for {}\".format(element)\n",
      "/Users/gwen/miniconda3/envs/cmeutils/lib/python3.7/site-packages/foyer/forcefield.py:658: UserWarning: Non-atomistic element type detected. Creating custom element for _os\n",
      "  \"Creating custom element for {}\".format(element)\n",
      "/Users/gwen/miniconda3/envs/cmeutils/lib/python3.7/site-packages/foyer/forcefield.py:658: UserWarning: Non-atomistic element type detected. Creating custom element for _cx\n",
      "  \"Creating custom element for {}\".format(element)\n",
      "/Users/gwen/miniconda3/envs/cmeutils/lib/python3.7/site-packages/foyer/forcefield.py:621: UserWarning: No force field version number found in force field XML file.\n",
      "  \"No force field version number found in force field XML file.\"\n",
      "/Users/gwen/miniconda3/envs/cmeutils/lib/python3.7/site-packages/foyer/forcefield.py:633: UserWarning: No force field name found in force field XML file.\n",
      "  \"No force field name found in force field XML file.\"\n",
      "/Users/gwen/miniconda3/envs/cmeutils/lib/python3.7/site-packages/foyer/forcefield.py:645: UserWarning: No combining rule found in force field XML file.\n",
      "  \"No combining rule found in force field XML file.\"\n"
     ]
    }
   ],
   "source": [
    "#files=\"/Users/gwen/cmelab/molecules/qubekit_custom.xml\"\n",
    "#gaff_ff = foyer.Forcefield.loadFile(files)\n",
    "#gaff_ff = foyer.Forcefield(forcefield_files=\"/Users/gwen/cmelab/GAFF-foyer/gafffoyer/xml/gaff.xml\")\n",
    "gaff_ff = foyer.Forcefield(forcefield_files=\"/Users/gwen/cmelab/planckton/planckton/forcefields/gaff/opv_gaff.xml\")\n"
   ]
  },
  {
   "cell_type": "code",
   "execution_count": 5,
   "id": "0b402e0e",
   "metadata": {},
   "outputs": [
    {
     "ename": "Exception",
     "evalue": "Parameters have not been assigned to all bonds. Total system bonds: 198, Parametrized bonds: 196",
     "output_type": "error",
     "traceback": [
      "\u001b[0;31m---------------------------------------------------------------------------\u001b[0m",
      "\u001b[0;31mException\u001b[0m                                 Traceback (most recent call last)",
      "\u001b[0;32m/var/folders/87/gn2zypk14pz2r3klx30j8fxr0000gs/T/ipykernel_69622/700032343.py\u001b[0m in \u001b[0;36m<module>\u001b[0;34m\u001b[0m\n\u001b[0;32m----> 1\u001b[0;31m \u001b[0mgaff_ff\u001b[0m\u001b[0;34m.\u001b[0m\u001b[0mapply\u001b[0m\u001b[0;34m(\u001b[0m\u001b[0mcompound\u001b[0m\u001b[0;34m,\u001b[0m \u001b[0massert_improper_params\u001b[0m\u001b[0;34m=\u001b[0m\u001b[0;32mFalse\u001b[0m\u001b[0;34m,\u001b[0m \u001b[0mverbose\u001b[0m\u001b[0;34m=\u001b[0m\u001b[0;32mTrue\u001b[0m\u001b[0;34m)\u001b[0m\u001b[0;34m\u001b[0m\u001b[0;34m\u001b[0m\u001b[0m\n\u001b[0m",
      "\u001b[0;32m~/miniconda3/envs/cmeutils/lib/python3.7/site-packages/foyer/forcefield.py\u001b[0m in \u001b[0;36mapply\u001b[0;34m(self, structure, references_file, use_residue_map, assert_bond_params, assert_angle_params, assert_dihedral_params, assert_improper_params, verbose, *args, **kwargs)\u001b[0m\n\u001b[1;32m    784\u001b[0m             \u001b[0mverbose\u001b[0m\u001b[0;34m=\u001b[0m\u001b[0mverbose\u001b[0m\u001b[0;34m,\u001b[0m\u001b[0;34m\u001b[0m\u001b[0;34m\u001b[0m\u001b[0m\n\u001b[1;32m    785\u001b[0m             \u001b[0;34m*\u001b[0m\u001b[0margs\u001b[0m\u001b[0;34m,\u001b[0m\u001b[0;34m\u001b[0m\u001b[0;34m\u001b[0m\u001b[0m\n\u001b[0;32m--> 786\u001b[0;31m             \u001b[0;34m**\u001b[0m\u001b[0mkwargs\u001b[0m\u001b[0;34m,\u001b[0m\u001b[0;34m\u001b[0m\u001b[0;34m\u001b[0m\u001b[0m\n\u001b[0m\u001b[1;32m    787\u001b[0m         )\n\u001b[1;32m    788\u001b[0m \u001b[0;34m\u001b[0m\u001b[0m\n",
      "\u001b[0;32m~/miniconda3/envs/cmeutils/lib/python3.7/site-packages/foyer/forcefield.py\u001b[0m in \u001b[0;36mparametrize_system\u001b[0;34m(self, structure, references_file, assert_bond_params, assert_angle_params, assert_dihedral_params, assert_improper_params, verbose, *args, **kwargs)\u001b[0m\n\u001b[1;32m    860\u001b[0m             \u001b[0mstructure\u001b[0m\u001b[0;34m.\u001b[0m\u001b[0mbox_vectors\u001b[0m \u001b[0;34m=\u001b[0m \u001b[0mbox_vectors\u001b[0m\u001b[0;34m\u001b[0m\u001b[0;34m\u001b[0m\u001b[0m\n\u001b[1;32m    861\u001b[0m \u001b[0;34m\u001b[0m\u001b[0m\n\u001b[0;32m--> 862\u001b[0;31m         \u001b[0m_check_bonds\u001b[0m\u001b[0;34m(\u001b[0m\u001b[0mdata\u001b[0m\u001b[0;34m,\u001b[0m \u001b[0mstructure\u001b[0m\u001b[0;34m,\u001b[0m \u001b[0massert_bond_params\u001b[0m\u001b[0;34m)\u001b[0m\u001b[0;34m\u001b[0m\u001b[0;34m\u001b[0m\u001b[0m\n\u001b[0m\u001b[1;32m    863\u001b[0m         \u001b[0m_check_angles\u001b[0m\u001b[0;34m(\u001b[0m\u001b[0mdata\u001b[0m\u001b[0;34m,\u001b[0m \u001b[0mstructure\u001b[0m\u001b[0;34m,\u001b[0m \u001b[0mverbose\u001b[0m\u001b[0;34m,\u001b[0m \u001b[0massert_angle_params\u001b[0m\u001b[0;34m)\u001b[0m\u001b[0;34m\u001b[0m\u001b[0;34m\u001b[0m\u001b[0m\n\u001b[1;32m    864\u001b[0m         _check_dihedrals(\n",
      "\u001b[0;32m~/miniconda3/envs/cmeutils/lib/python3.7/site-packages/foyer/forcefield.py\u001b[0m in \u001b[0;36m_check_bonds\u001b[0;34m(data, structure, assert_bond_params)\u001b[0m\n\u001b[1;32m    360\u001b[0m                 \u001b[0;34m\"\"\u001b[0m\u001b[0;34m.\u001b[0m\u001b[0mformat\u001b[0m\u001b[0;34m(\u001b[0m\u001b[0mlen\u001b[0m\u001b[0;34m(\u001b[0m\u001b[0mstructure\u001b[0m\u001b[0;34m.\u001b[0m\u001b[0mbonds\u001b[0m\u001b[0;34m)\u001b[0m\u001b[0;34m,\u001b[0m \u001b[0mnmissing\u001b[0m\u001b[0;34m)\u001b[0m\u001b[0;34m\u001b[0m\u001b[0;34m\u001b[0m\u001b[0m\n\u001b[1;32m    361\u001b[0m             )\n\u001b[0;32m--> 362\u001b[0;31m             \u001b[0m_error_or_warn\u001b[0m\u001b[0;34m(\u001b[0m\u001b[0massert_bond_params\u001b[0m\u001b[0;34m,\u001b[0m \u001b[0mmsg\u001b[0m\u001b[0;34m)\u001b[0m\u001b[0;34m\u001b[0m\u001b[0;34m\u001b[0m\u001b[0m\n\u001b[0m\u001b[1;32m    363\u001b[0m \u001b[0;34m\u001b[0m\u001b[0m\n\u001b[1;32m    364\u001b[0m \u001b[0;34m\u001b[0m\u001b[0m\n",
      "\u001b[0;32m~/miniconda3/envs/cmeutils/lib/python3.7/site-packages/foyer/forcefield.py\u001b[0m in \u001b[0;36m_error_or_warn\u001b[0;34m(error, msg)\u001b[0m\n\u001b[1;32m    344\u001b[0m     \"\"\"\n\u001b[1;32m    345\u001b[0m     \u001b[0;32mif\u001b[0m \u001b[0merror\u001b[0m\u001b[0;34m:\u001b[0m\u001b[0;34m\u001b[0m\u001b[0;34m\u001b[0m\u001b[0m\n\u001b[0;32m--> 346\u001b[0;31m         \u001b[0;32mraise\u001b[0m \u001b[0mException\u001b[0m\u001b[0;34m(\u001b[0m\u001b[0mmsg\u001b[0m\u001b[0;34m)\u001b[0m\u001b[0;34m\u001b[0m\u001b[0;34m\u001b[0m\u001b[0m\n\u001b[0m\u001b[1;32m    347\u001b[0m     \u001b[0;32melse\u001b[0m\u001b[0;34m:\u001b[0m\u001b[0;34m\u001b[0m\u001b[0;34m\u001b[0m\u001b[0m\n\u001b[1;32m    348\u001b[0m         \u001b[0mwarnings\u001b[0m\u001b[0;34m.\u001b[0m\u001b[0mwarn\u001b[0m\u001b[0;34m(\u001b[0m\u001b[0mmsg\u001b[0m\u001b[0;34m)\u001b[0m\u001b[0;34m\u001b[0m\u001b[0;34m\u001b[0m\u001b[0m\n",
      "\u001b[0;31mException\u001b[0m: Parameters have not been assigned to all bonds. Total system bonds: 198, Parametrized bonds: 196"
     ]
    }
   ],
   "source": [
    "gaff_ff.apply(compound, assert_improper_params=False, verbose=True)"
   ]
  },
  {
   "cell_type": "code",
   "execution_count": null,
   "id": "11fc5d08",
   "metadata": {},
   "outputs": [],
   "source": [
    "'''\n",
    "If you find that info (bonds, angles, etc) are missing. \n",
    "You will need to clone a fork of GAFF-foyer repo. \n",
    "You will then need to add the missing info to the gaff.xml file in this repo. \n",
    "Additionally, in this gaff.xml file, you will see all of the bonds, angles, etc for other atoms. \n",
    "You can find \"close enough\" approximations (similar atoms/bonds) for missing values. \n",
    "This is very confusing to explain, and honestly still tough to fully understand so we can probably chat once you reach this point.\n",
    "Also I find that the planckton environment works well with this notebook. There will be other random things you may have to install, but the notebook should tell you through import errors.\n",
    "'''"
   ]
  },
  {
   "cell_type": "code",
   "execution_count": 7,
   "id": "e4e73b8a",
   "metadata": {},
   "outputs": [
    {
     "name": "stdout",
     "output_type": "stream",
     "text": [
      "Help on method apply in module foyer.forcefield:\n",
      "\n",
      "apply(structure, references_file=None, use_residue_map=True, assert_bond_params=True, assert_angle_params=True, assert_dihedral_params=True, assert_improper_params=False, verbose=False, *args, **kwargs) method of foyer.forcefield.Forcefield instance\n",
      "    Apply the force field to a molecular structure.\n",
      "    \n",
      "    Parameters\n",
      "    ----------\n",
      "    structure : parmed.Structure or mbuild.Compound\n",
      "        Molecular structure to apply the force field to\n",
      "    references_file : str, optional, default=None\n",
      "        Name of file where force field references will be written (in Bibtex\n",
      "        format)\n",
      "    use_residue_map : boolean, optional, default=True\n",
      "        Store atomtyped topologies of residues to a dictionary that maps\n",
      "        them to residue names.  Each topology, including atomtypes, will be\n",
      "        copied to other residues with the same name. This avoids repeatedly\n",
      "        calling the subgraph isomorphism on idential residues and should\n",
      "        result in better performance for systems with many identical\n",
      "        residues, i.e. a box of water. Note that for this to be applied to\n",
      "        independent molecules, they must each be saved as different\n",
      "        residues in the topology.\n",
      "    assert_bond_params : bool, optional, default=True\n",
      "        If True, Foyer will exit if parameters are not found for all system\n",
      "        bonds.\n",
      "    assert_angle_params : bool, optional, default=True\n",
      "        If True, Foyer will exit if parameters are not found for all system\n",
      "        angles.\n",
      "    assert_dihedral_params : bool, optional, default=True\n",
      "        If True, Foyer will exit if parameters are not found for all system\n",
      "        proper dihedrals.\n",
      "    assert_improper_params : bool, optional, default=False\n",
      "        If True, Foyer will exit if parameters are not found for all system\n",
      "        improper dihedrals.\n",
      "    verbose : bool, optional, default=False\n",
      "        If True, Foyer will print debug-level information about notable or\n",
      "        potentially problematic details it encounters.\n",
      "\n"
     ]
    }
   ],
   "source": [
    "help(gaff_ff.apply)"
   ]
  },
  {
   "cell_type": "code",
   "execution_count": null,
   "id": "8494c9ba",
   "metadata": {},
   "outputs": [],
   "source": []
  }
 ],
 "metadata": {
  "kernelspec": {
   "display_name": "Python 3 (ipykernel)",
   "language": "python",
   "name": "python3"
  },
  "language_info": {
   "codemirror_mode": {
    "name": "ipython",
    "version": 3
   },
   "file_extension": ".py",
   "mimetype": "text/x-python",
   "name": "python",
   "nbconvert_exporter": "python",
   "pygments_lexer": "ipython3",
   "version": "3.7.12"
  }
 },
 "nbformat": 4,
 "nbformat_minor": 5
}
